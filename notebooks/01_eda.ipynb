{
 "cells": [
  {
   "cell_type": "code",
   "source": [
    "# 1) Imports & setup\n",
    "import os, pandas as pd, numpy as np\n",
    "import matplotlib.pyplot as plt\n",
    "from sqlalchemy import create_engine, text\n",
    "from dotenv import load_dotenv\n",
    "load_dotenv()\n",
    "engine = create_engine(os.getenv(\"POSTGRES_URL\"))\n",
    "%matplotlib inline"
   ],
   "metadata": {},
   "execution_count": null,
   "outputs": []
  },
  {
   "cell_type": "code",
   "source": [
    "# 2) Basic row counts & freshness\n",
    "qc_sql = \"\"\"\n",
    "select 'drivers' tbl, count(*) cnt from raw.drivers union all\n",
    "select 'constructors', count(*) from raw.constructors union all\n",
    "select 'races', count(*) from raw.races union all\n",
    "select 'results', count(*) from raw.results union all\n",
    "select 'pitstops', count(*) from raw.pitstops union all\n",
    "select 'qualifying', count(*) from raw.qualifying;\n",
    "\"\"\"\n",
    "qc = pd.read_sql(text(qc_sql), engine)\n",
    "display(qc)"
   ],
   "metadata": {},
   "execution_count": null,
   "outputs": []
  },
  {
   "cell_type": "code",
   "source": [
    "# 3) Missingness & distributions in core tables\n",
    "res = pd.read_sql(text(\"select * from raw.results\"), engine)\n",
    "print(res.isna().mean().sort_values(ascending=False).head(12))\n",
    "res[[\"grid\",\"position\",\"points\"]].describe()"
   ],
   "metadata": {},
   "execution_count": null,
   "outputs": []
  },
  {
   "cell_type": "code",
   "source": [
    "# 4) Target definition sanity: is_top10\n",
    "res[\"is_top10\"] = res[\"position\"].between(1,10)\n",
    "res[\"is_top10\"].value_counts(normalize=True)"
   ],
   "metadata": {},
   "execution_count": null,
   "outputs": []
  },
  {
   "cell_type": "code",
   "source": [
    "# 5) Season trend plots\n",
    "by_season = pd.read_sql(text(\"\"\"\n",
    "select ra.season, count(*) n_results,\n",
    "       avg(case when r.position between 1 and 10 then 1 else 0 end) top10_rate\n",
    "from raw.results r join raw.races ra using (race_id)\n",
    "group by 1 order by 1\n",
    "\"\"\"), engine)\n",
    "by_season.plot(x=\"season\", y=[\"n_results\",\"top10_rate\"], subplots=False, figsize=(8,4), marker='o')\n",
    "plt.title(\"Volume & Top10 rate over seasons\"); plt.show()"
   ],
   "metadata": {},
   "execution_count": null,
   "outputs": []
  },
  {
   "cell_type": "code",
   "source": [
    "# 6) Qualifying vs finish correlation\n",
    "qfin = pd.read_sql(text(\"\"\"\n",
    "select q.position as quali_pos, r.position as finish_pos\n",
    "from raw.qualifying q join raw.results r using (race_id, driver_id)\n",
    "where r.position is not null\n",
    "\"\"\"), engine)\n",
    "qfin.corr(numeric_only=True)\n",
    "plt.scatter(qfin[\"quali_pos\"], qfin[\"finish_pos\"], s=8)\n",
    "plt.xlabel(\"Quali position (lower=better)\"); plt.ylabel(\"Finish position\")\n",
    "plt.title(\"Quali vs Finish\"); plt.show()"
   ],
   "metadata": {},
   "execution_count": null,
   "outputs": []
  },
  {
   "cell_type": "code",
   "source": [
    "# 7) Pitstop distributions\n",
    "pit = pd.read_sql(text(\"select duration_ms from raw.pitstops where duration_ms is not null\"), engine)\n",
    "pit[\"duration_s\"] = pit[\"duration_ms\"]/1000\n",
    "pit[\"duration_s\"].hist(bins=40, figsize=(7,4))\n",
    "plt.title(\"Pit stop duration distribution (s)\"); plt.show()"
   ],
   "metadata": {},
   "execution_count": null,
   "outputs": []
  },
  {
   "cell_type": "code",
   "source": [
    "# 8) Data joins preview for features view\n",
    "feat_preview = pd.read_sql(text(\"\"\"\n",
    "select ra.season, ra.round, r.driver_id, r.grid,\n",
    "       q.position as quali_pos\n",
    "from raw.results r\n",
    "join raw.races ra using (race_id)\n",
    "left join raw.qualifying q using (race_id, driver_id)\n",
    "limit 200\n",
    "\"\"\"), engine)\n",
    "feat_preview.head()"
   ],
   "metadata": {},
   "execution_count": null,
   "outputs": []
  },
  {
   "cell_type": "code",
   "source": [
    "# 9) Leakage checks quick pass (ensure no post-race info in features)\n",
    "# Example: ensure 'time_ms' or 'status' are never used for pre-race features\n",
    "sus = {\"time_ms\",\"status\",\"fastest_lap\"}\n",
    "used_columns = {\"grid\",\"quali_pos\"}  # expand as you add features\n",
    "print(\"Suspicious columns present in features?\", bool(sus & used_columns))"
   ],
   "metadata": {},
   "execution_count": null,
   "outputs": []
  },
  {
   "cell_type": "code",
   "source": [
    "# 10) Save lightweight PNGs for README/BI screenshots\n",
    "out = \"../bi/screenshots\"\n",
    "os.makedirs(out, exist_ok=True)\n",
    "plt.figure(figsize=(6,3))\n",
    "by_season.plot(x=\"season\", y=\"top10_rate\", legend=False)\n",
    "plt.title(\"Top‑10 rate by season\"); plt.tight_layout(); plt.savefig(f\"{out}/top10_rate_by_season.png\")"
   ],
   "metadata": {},
   "execution_count": null,
   "outputs": []
  }
 ]
}